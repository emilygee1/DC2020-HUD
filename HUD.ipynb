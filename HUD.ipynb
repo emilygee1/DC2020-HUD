{
 "cells": [
  {
   "cell_type": "markdown",
   "metadata": {},
   "source": [
    "# HUD project in Python"
   ]
  },
  {
   "cell_type": "code",
   "execution_count": 1,
   "metadata": {},
   "outputs": [],
   "source": [
    "from sklearn.model_selection import train_test_split\n",
    "\n",
    "# Models\n",
    "from sklearn.linear_model import LogisticRegression\n",
    "from sklearn.tree import DecisionTreeClassifier\n",
    "\n",
    "# Evaluation\n",
    "from sklearn.metrics import confusion_matrix\n",
    "from sklearn.metrics import classification_report\n",
    "\n",
    "import pandas as pd\n",
    "import seaborn as sns\n",
    "import matplotlib.pyplot as plt"
   ]
  },
  {
   "cell_type": "code",
   "execution_count": 2,
   "metadata": {},
   "outputs": [],
   "source": [
    "df = pd.read_excel('HUD.xlsx')"
   ]
  },
  {
   "cell_type": "markdown",
   "metadata": {},
   "source": [
    "## Data cleaning"
   ]
  },
  {
   "cell_type": "code",
   "execution_count": 3,
   "metadata": {},
   "outputs": [
    {
     "data": {
      "text/html": [
       "<div>\n",
       "<style scoped>\n",
       "    .dataframe tbody tr th:only-of-type {\n",
       "        vertical-align: middle;\n",
       "    }\n",
       "\n",
       "    .dataframe tbody tr th {\n",
       "        vertical-align: top;\n",
       "    }\n",
       "\n",
       "    .dataframe thead th {\n",
       "        text-align: right;\n",
       "    }\n",
       "</style>\n",
       "<table border=\"1\" class=\"dataframe\">\n",
       "  <thead>\n",
       "    <tr style=\"text-align: right;\">\n",
       "      <th></th>\n",
       "      <th>Year</th>\n",
       "      <th>HSHD_MBR_TOTAL_CNT</th>\n",
       "      <th>NUM_BEDRM_CNT</th>\n",
       "      <th>TOTAL_DPNDNT_CNT</th>\n",
       "      <th>TOTAL_ANNL_INCM_AMNT</th>\n",
       "      <th>ADLT_AGE_18_21_CNT</th>\n",
       "      <th>ADLT_AGE_22_25_CNT</th>\n",
       "      <th>ADLT_AGE_26_35_CNT</th>\n",
       "      <th>ADLT_AGE_36_49_CNT</th>\n",
       "      <th>ADLT_AGE_50_61_CNT</th>\n",
       "      <th>...</th>\n",
       "      <th>PVRTY_PRCNT</th>\n",
       "      <th>MNRTY_PRCNT</th>\n",
       "      <th>BLACK_PRCNT</th>\n",
       "      <th>HISPANIC_PRCNT</th>\n",
       "      <th>WHITE_PRCNT</th>\n",
       "      <th>pgm_type_edited</th>\n",
       "      <th>total_annl_incm_amnt_rounded</th>\n",
       "      <th>gross_rent_amnt_rounded</th>\n",
       "      <th>asstn_pymnt_amnt_rounded</th>\n",
       "      <th>total_fmly_crbtn_amnt_rounded</th>\n",
       "    </tr>\n",
       "  </thead>\n",
       "  <tbody>\n",
       "    <tr>\n",
       "      <th>0</th>\n",
       "      <td>2009</td>\n",
       "      <td>2</td>\n",
       "      <td>2</td>\n",
       "      <td>0</td>\n",
       "      <td>18948</td>\n",
       "      <td>0</td>\n",
       "      <td>0</td>\n",
       "      <td>0</td>\n",
       "      <td>0</td>\n",
       "      <td>0</td>\n",
       "      <td>...</td>\n",
       "      <td>9.539</td>\n",
       "      <td>1.400</td>\n",
       "      <td>0.000</td>\n",
       "      <td>0.306</td>\n",
       "      <td>98.600</td>\n",
       "      <td>1</td>\n",
       "      <td>18900</td>\n",
       "      <td>.</td>\n",
       "      <td>.</td>\n",
       "      <td>450</td>\n",
       "    </tr>\n",
       "    <tr>\n",
       "      <th>1</th>\n",
       "      <td>2009</td>\n",
       "      <td>1</td>\n",
       "      <td>1</td>\n",
       "      <td>0</td>\n",
       "      <td>4882</td>\n",
       "      <td>0</td>\n",
       "      <td>0</td>\n",
       "      <td>0</td>\n",
       "      <td>0</td>\n",
       "      <td>0</td>\n",
       "      <td>...</td>\n",
       "      <td>43.907</td>\n",
       "      <td>78.665</td>\n",
       "      <td>50.815</td>\n",
       "      <td>5.420</td>\n",
       "      <td>21.335</td>\n",
       "      <td>1</td>\n",
       "      <td>4900</td>\n",
       "      <td>.</td>\n",
       "      <td>.</td>\n",
       "      <td>100</td>\n",
       "    </tr>\n",
       "    <tr>\n",
       "      <th>2</th>\n",
       "      <td>2009</td>\n",
       "      <td>1</td>\n",
       "      <td>1</td>\n",
       "      <td>0</td>\n",
       "      <td>14033</td>\n",
       "      <td>0</td>\n",
       "      <td>0</td>\n",
       "      <td>0</td>\n",
       "      <td>0</td>\n",
       "      <td>1</td>\n",
       "      <td>...</td>\n",
       "      <td>12.634</td>\n",
       "      <td>6.637</td>\n",
       "      <td>0.789</td>\n",
       "      <td>1.550</td>\n",
       "      <td>93.363</td>\n",
       "      <td>1</td>\n",
       "      <td>14000</td>\n",
       "      <td>.</td>\n",
       "      <td>.</td>\n",
       "      <td>300</td>\n",
       "    </tr>\n",
       "    <tr>\n",
       "      <th>3</th>\n",
       "      <td>2009</td>\n",
       "      <td>1</td>\n",
       "      <td>1</td>\n",
       "      <td>0</td>\n",
       "      <td>11046</td>\n",
       "      <td>0</td>\n",
       "      <td>0</td>\n",
       "      <td>0</td>\n",
       "      <td>0</td>\n",
       "      <td>0</td>\n",
       "      <td>...</td>\n",
       "      <td>7.555</td>\n",
       "      <td>3.900</td>\n",
       "      <td>0.000</td>\n",
       "      <td>2.067</td>\n",
       "      <td>96.100</td>\n",
       "      <td>1</td>\n",
       "      <td>11000</td>\n",
       "      <td>.</td>\n",
       "      <td>.</td>\n",
       "      <td>250</td>\n",
       "    </tr>\n",
       "    <tr>\n",
       "      <th>4</th>\n",
       "      <td>2009</td>\n",
       "      <td>2</td>\n",
       "      <td>2</td>\n",
       "      <td>1</td>\n",
       "      <td>15172</td>\n",
       "      <td>1</td>\n",
       "      <td>0</td>\n",
       "      <td>0</td>\n",
       "      <td>1</td>\n",
       "      <td>0</td>\n",
       "      <td>...</td>\n",
       "      <td>16.914</td>\n",
       "      <td>12.439</td>\n",
       "      <td>4.282</td>\n",
       "      <td>4.201</td>\n",
       "      <td>87.561</td>\n",
       "      <td>1</td>\n",
       "      <td>15200</td>\n",
       "      <td>.</td>\n",
       "      <td>.</td>\n",
       "      <td>350</td>\n",
       "    </tr>\n",
       "  </tbody>\n",
       "</table>\n",
       "<p>5 rows × 40 columns</p>\n",
       "</div>"
      ],
      "text/plain": [
       "   Year  HSHD_MBR_TOTAL_CNT  NUM_BEDRM_CNT  TOTAL_DPNDNT_CNT  \\\n",
       "0  2009                   2              2                 0   \n",
       "1  2009                   1              1                 0   \n",
       "2  2009                   1              1                 0   \n",
       "3  2009                   1              1                 0   \n",
       "4  2009                   2              2                 1   \n",
       "\n",
       "   TOTAL_ANNL_INCM_AMNT  ADLT_AGE_18_21_CNT  ADLT_AGE_22_25_CNT  \\\n",
       "0                 18948                   0                   0   \n",
       "1                  4882                   0                   0   \n",
       "2                 14033                   0                   0   \n",
       "3                 11046                   0                   0   \n",
       "4                 15172                   1                   0   \n",
       "\n",
       "   ADLT_AGE_26_35_CNT  ADLT_AGE_36_49_CNT  ADLT_AGE_50_61_CNT  ...  \\\n",
       "0                   0                   0                   0  ...   \n",
       "1                   0                   0                   0  ...   \n",
       "2                   0                   0                   1  ...   \n",
       "3                   0                   0                   0  ...   \n",
       "4                   0                   1                   0  ...   \n",
       "\n",
       "   PVRTY_PRCNT  MNRTY_PRCNT  BLACK_PRCNT  HISPANIC_PRCNT  WHITE_PRCNT  \\\n",
       "0        9.539        1.400        0.000           0.306       98.600   \n",
       "1       43.907       78.665       50.815           5.420       21.335   \n",
       "2       12.634        6.637        0.789           1.550       93.363   \n",
       "3        7.555        3.900        0.000           2.067       96.100   \n",
       "4       16.914       12.439        4.282           4.201       87.561   \n",
       "\n",
       "   pgm_type_edited  total_annl_incm_amnt_rounded  gross_rent_amnt_rounded  \\\n",
       "0                1                         18900                        .   \n",
       "1                1                          4900                        .   \n",
       "2                1                         14000                        .   \n",
       "3                1                         11000                        .   \n",
       "4                1                         15200                        .   \n",
       "\n",
       "   asstn_pymnt_amnt_rounded total_fmly_crbtn_amnt_rounded  \n",
       "0                         .                           450  \n",
       "1                         .                           100  \n",
       "2                         .                           300  \n",
       "3                         .                           250  \n",
       "4                         .                           350  \n",
       "\n",
       "[5 rows x 40 columns]"
      ]
     },
     "execution_count": 3,
     "metadata": {},
     "output_type": "execute_result"
    }
   ],
   "source": [
    "df.head()"
   ]
  },
  {
   "cell_type": "code",
   "execution_count": 4,
   "metadata": {},
   "outputs": [
    {
     "data": {
      "text/html": [
       "<div>\n",
       "<style scoped>\n",
       "    .dataframe tbody tr th:only-of-type {\n",
       "        vertical-align: middle;\n",
       "    }\n",
       "\n",
       "    .dataframe tbody tr th {\n",
       "        vertical-align: top;\n",
       "    }\n",
       "\n",
       "    .dataframe thead th {\n",
       "        text-align: right;\n",
       "    }\n",
       "</style>\n",
       "<table border=\"1\" class=\"dataframe\">\n",
       "  <thead>\n",
       "    <tr style=\"text-align: right;\">\n",
       "      <th></th>\n",
       "      <th>Year</th>\n",
       "      <th>HSHD_MBR_TOTAL_CNT</th>\n",
       "      <th>NUM_BEDRM_CNT</th>\n",
       "      <th>TOTAL_DPNDNT_CNT</th>\n",
       "      <th>TOTAL_ANNL_INCM_AMNT</th>\n",
       "      <th>ADLT_AGE_18_21_CNT</th>\n",
       "      <th>ADLT_AGE_22_25_CNT</th>\n",
       "      <th>ADLT_AGE_26_35_CNT</th>\n",
       "      <th>ADLT_AGE_36_49_CNT</th>\n",
       "      <th>ADLT_AGE_50_61_CNT</th>\n",
       "      <th>...</th>\n",
       "      <th>PVRTY_PRCNT</th>\n",
       "      <th>MNRTY_PRCNT</th>\n",
       "      <th>BLACK_PRCNT</th>\n",
       "      <th>HISPANIC_PRCNT</th>\n",
       "      <th>WHITE_PRCNT</th>\n",
       "      <th>pgm_type_edited</th>\n",
       "      <th>total_annl_incm_amnt_rounded</th>\n",
       "      <th>gross_rent_amnt_rounded</th>\n",
       "      <th>asstn_pymnt_amnt_rounded</th>\n",
       "      <th>total_fmly_crbtn_amnt_rounded</th>\n",
       "    </tr>\n",
       "  </thead>\n",
       "  <tbody>\n",
       "    <tr>\n",
       "      <th>20786</th>\n",
       "      <td>2018</td>\n",
       "      <td>1</td>\n",
       "      <td>1</td>\n",
       "      <td>0</td>\n",
       "      <td>9000</td>\n",
       "      <td>0</td>\n",
       "      <td>0</td>\n",
       "      <td>0</td>\n",
       "      <td>0</td>\n",
       "      <td>1</td>\n",
       "      <td>...</td>\n",
       "      <td>36.296</td>\n",
       "      <td>34.914</td>\n",
       "      <td>6.203</td>\n",
       "      <td>21.4001</td>\n",
       "      <td>74.568</td>\n",
       "      <td>1</td>\n",
       "      <td>9000</td>\n",
       "      <td>.</td>\n",
       "      <td>.</td>\n",
       "      <td>200</td>\n",
       "    </tr>\n",
       "    <tr>\n",
       "      <th>20787</th>\n",
       "      <td>2018</td>\n",
       "      <td>1</td>\n",
       "      <td>1</td>\n",
       "      <td>0</td>\n",
       "      <td>8304</td>\n",
       "      <td>0</td>\n",
       "      <td>0</td>\n",
       "      <td>0</td>\n",
       "      <td>0</td>\n",
       "      <td>1</td>\n",
       "      <td>...</td>\n",
       "      <td>13.789</td>\n",
       "      <td>7.835</td>\n",
       "      <td>2.097</td>\n",
       "      <td>2.3836</td>\n",
       "      <td>93.578</td>\n",
       "      <td>1</td>\n",
       "      <td>8300</td>\n",
       "      <td>.</td>\n",
       "      <td>.</td>\n",
       "      <td>200</td>\n",
       "    </tr>\n",
       "    <tr>\n",
       "      <th>20788</th>\n",
       "      <td>2018</td>\n",
       "      <td>1</td>\n",
       "      <td>1</td>\n",
       "      <td>0</td>\n",
       "      <td>10547</td>\n",
       "      <td>0</td>\n",
       "      <td>0</td>\n",
       "      <td>0</td>\n",
       "      <td>0</td>\n",
       "      <td>0</td>\n",
       "      <td>...</td>\n",
       "      <td>9.035</td>\n",
       "      <td>14.039</td>\n",
       "      <td>2.003</td>\n",
       "      <td>6.1741</td>\n",
       "      <td>90.131</td>\n",
       "      <td>1</td>\n",
       "      <td>10500</td>\n",
       "      <td>.</td>\n",
       "      <td>.</td>\n",
       "      <td>250</td>\n",
       "    </tr>\n",
       "    <tr>\n",
       "      <th>20789</th>\n",
       "      <td>2018</td>\n",
       "      <td>1</td>\n",
       "      <td>2</td>\n",
       "      <td>0</td>\n",
       "      <td>0</td>\n",
       "      <td>0</td>\n",
       "      <td>0</td>\n",
       "      <td>0</td>\n",
       "      <td>1</td>\n",
       "      <td>0</td>\n",
       "      <td>...</td>\n",
       "      <td>30.583</td>\n",
       "      <td>3.108</td>\n",
       "      <td>0.303</td>\n",
       "      <td>0.4928</td>\n",
       "      <td>97.157</td>\n",
       "      <td>1</td>\n",
       "      <td>0</td>\n",
       "      <td>.</td>\n",
       "      <td>.</td>\n",
       "      <td>0</td>\n",
       "    </tr>\n",
       "    <tr>\n",
       "      <th>20790</th>\n",
       "      <td>2018</td>\n",
       "      <td>2</td>\n",
       "      <td>2</td>\n",
       "      <td>1</td>\n",
       "      <td>23652</td>\n",
       "      <td>0</td>\n",
       "      <td>0</td>\n",
       "      <td>1</td>\n",
       "      <td>0</td>\n",
       "      <td>0</td>\n",
       "      <td>...</td>\n",
       "      <td>13.797</td>\n",
       "      <td>8.839</td>\n",
       "      <td>1.558</td>\n",
       "      <td>1.8001</td>\n",
       "      <td>92.047</td>\n",
       "      <td>1</td>\n",
       "      <td>23700</td>\n",
       "      <td>.</td>\n",
       "      <td>.</td>\n",
       "      <td>500</td>\n",
       "    </tr>\n",
       "  </tbody>\n",
       "</table>\n",
       "<p>5 rows × 40 columns</p>\n",
       "</div>"
      ],
      "text/plain": [
       "       Year  HSHD_MBR_TOTAL_CNT  NUM_BEDRM_CNT  TOTAL_DPNDNT_CNT  \\\n",
       "20786  2018                   1              1                 0   \n",
       "20787  2018                   1              1                 0   \n",
       "20788  2018                   1              1                 0   \n",
       "20789  2018                   1              2                 0   \n",
       "20790  2018                   2              2                 1   \n",
       "\n",
       "       TOTAL_ANNL_INCM_AMNT  ADLT_AGE_18_21_CNT  ADLT_AGE_22_25_CNT  \\\n",
       "20786                  9000                   0                   0   \n",
       "20787                  8304                   0                   0   \n",
       "20788                 10547                   0                   0   \n",
       "20789                     0                   0                   0   \n",
       "20790                 23652                   0                   0   \n",
       "\n",
       "       ADLT_AGE_26_35_CNT  ADLT_AGE_36_49_CNT  ADLT_AGE_50_61_CNT  ...  \\\n",
       "20786                   0                   0                   1  ...   \n",
       "20787                   0                   0                   1  ...   \n",
       "20788                   0                   0                   0  ...   \n",
       "20789                   0                   1                   0  ...   \n",
       "20790                   1                   0                   0  ...   \n",
       "\n",
       "       PVRTY_PRCNT  MNRTY_PRCNT  BLACK_PRCNT  HISPANIC_PRCNT  WHITE_PRCNT  \\\n",
       "20786       36.296       34.914        6.203         21.4001       74.568   \n",
       "20787       13.789        7.835        2.097          2.3836       93.578   \n",
       "20788        9.035       14.039        2.003          6.1741       90.131   \n",
       "20789       30.583        3.108        0.303          0.4928       97.157   \n",
       "20790       13.797        8.839        1.558          1.8001       92.047   \n",
       "\n",
       "       pgm_type_edited  total_annl_incm_amnt_rounded  gross_rent_amnt_rounded  \\\n",
       "20786                1                          9000                        .   \n",
       "20787                1                          8300                        .   \n",
       "20788                1                         10500                        .   \n",
       "20789                1                             0                        .   \n",
       "20790                1                         23700                        .   \n",
       "\n",
       "       asstn_pymnt_amnt_rounded total_fmly_crbtn_amnt_rounded  \n",
       "20786                         .                           200  \n",
       "20787                         .                           200  \n",
       "20788                         .                           250  \n",
       "20789                         .                             0  \n",
       "20790                         .                           500  \n",
       "\n",
       "[5 rows x 40 columns]"
      ]
     },
     "execution_count": 4,
     "metadata": {},
     "output_type": "execute_result"
    }
   ],
   "source": [
    "# Only use most recent data\n",
    "df18 = df[df['Year']==2018]\n",
    "df18.head()"
   ]
  },
  {
   "cell_type": "code",
   "execution_count": 5,
   "metadata": {},
   "outputs": [
    {
     "data": {
      "text/plain": [
       "(42415, 40)"
      ]
     },
     "execution_count": 5,
     "metadata": {},
     "output_type": "execute_result"
    }
   ],
   "source": [
    "df18.shape"
   ]
  },
  {
   "cell_type": "code",
   "execution_count": 6,
   "metadata": {},
   "outputs": [
    {
     "data": {
      "text/plain": [
       "Index(['Year', 'HSHD_MBR_TOTAL_CNT', 'NUM_BEDRM_CNT', 'TOTAL_DPNDNT_CNT',\n",
       "       'TOTAL_ANNL_INCM_AMNT', 'ADLT_AGE_18_21_CNT', 'ADLT_AGE_22_25_CNT',\n",
       "       'ADLT_AGE_26_35_CNT', 'ADLT_AGE_36_49_CNT', 'ADLT_AGE_50_61_CNT',\n",
       "       'ADLT_AGE_62_85_CNT', 'ADLT_AGE_ABOVE85_CNT', 'DSBLD_CHLDRN_CNT',\n",
       "       'HEAD_AGE_YR_CNT', 'CHLDRN_AGE_0_3_CNT', 'CHLDRN_AGE_4_5_CNT',\n",
       "       'CHLDRN_AGE_6_12_CNT', 'CHLDRN_AGE_13_17_CNT', 'CHLDRN_MBR_CNT',\n",
       "       'HEAD_GNDR_CD', 'HEAD_ELDLY_INDR', 'HEAD_DSBLTY_INDR', 'HEAD_RACE_CD',\n",
       "       'HEAD_ETHNCY_CD', 'H6_CD', 'CHLDRN_MBR_INDR', 'CNTRL_CITY_CD',\n",
       "       'GROSS_RENT_AMNT', 'ASSTN_PYMNT_AMNT', 'TOTAL_FMLY_CRBTN_AMNT',\n",
       "       'PVRTY_PRCNT', 'MNRTY_PRCNT', 'BLACK_PRCNT', 'HISPANIC_PRCNT',\n",
       "       'WHITE_PRCNT', 'pgm_type_edited', 'total_annl_incm_amnt_rounded',\n",
       "       'gross_rent_amnt_rounded', 'asstn_pymnt_amnt_rounded',\n",
       "       'total_fmly_crbtn_amnt_rounded'],\n",
       "      dtype='object')"
      ]
     },
     "execution_count": 6,
     "metadata": {},
     "output_type": "execute_result"
    }
   ],
   "source": [
    "df18.columns"
   ]
  },
  {
   "cell_type": "code",
   "execution_count": 7,
   "metadata": {},
   "outputs": [
    {
     "name": "stderr",
     "output_type": "stream",
     "text": [
      "/Users/emilygee/opt/anaconda3/lib/python3.7/site-packages/pandas/core/frame.py:3997: SettingWithCopyWarning: \n",
      "A value is trying to be set on a copy of a slice from a DataFrame\n",
      "\n",
      "See the caveats in the documentation: https://pandas.pydata.org/pandas-docs/stable/user_guide/indexing.html#returning-a-view-versus-a-copy\n",
      "  errors=errors,\n"
     ]
    }
   ],
   "source": [
    "# Drop columns with unique identifier, redundant variables, rounded values, and financial related variables\n",
    "# Leave only demographic variables\n",
    "df18.drop([\n",
    "    'TOTAL_ANNL_INCM_AMNT',\n",
    "    'ADLT_AGE_18_21_CNT',\n",
    "    'ADLT_AGE_22_25_CNT',\n",
    "    'ADLT_AGE_26_35_CNT',\n",
    "    'ADLT_AGE_36_49_CNT',\n",
    "    'ADLT_AGE_50_61_CNT',\n",
    "    'ADLT_AGE_62_85_CNT',\n",
    "    'ADLT_AGE_ABOVE85_CNT',\n",
    "    'CHLDRN_AGE_0_3_CNT',\n",
    "    'CHLDRN_AGE_4_5_CNT',\n",
    "    'CHLDRN_AGE_6_12_CNT',\n",
    "    'CHLDRN_AGE_13_17_CNT',\n",
    "    'H6_CD',\n",
    "    'GROSS_RENT_AMNT',\n",
    "    'ASSTN_PYMNT_AMNT',\n",
    "    'TOTAL_FMLY_CRBTN_AMNT',\n",
    "    'total_annl_incm_amnt_rounded',\n",
    "    'gross_rent_amnt_rounded',\n",
    "    'asstn_pymnt_amnt_rounded',\n",
    "    'total_fmly_crbtn_amnt_rounded'\n",
    "],\n",
    "    axis = 1,\n",
    "    inplace = True)"
   ]
  },
  {
   "cell_type": "code",
   "execution_count": 8,
   "metadata": {},
   "outputs": [
    {
     "data": {
      "text/plain": [
       "(42415, 20)"
      ]
     },
     "execution_count": 8,
     "metadata": {},
     "output_type": "execute_result"
    }
   ],
   "source": [
    "df18.shape"
   ]
  },
  {
   "cell_type": "code",
   "execution_count": 9,
   "metadata": {},
   "outputs": [
    {
     "data": {
      "text/plain": [
       "Index(['Year', 'HSHD_MBR_TOTAL_CNT', 'NUM_BEDRM_CNT', 'TOTAL_DPNDNT_CNT',\n",
       "       'DSBLD_CHLDRN_CNT', 'HEAD_AGE_YR_CNT', 'CHLDRN_MBR_CNT', 'HEAD_GNDR_CD',\n",
       "       'HEAD_ELDLY_INDR', 'HEAD_DSBLTY_INDR', 'HEAD_RACE_CD', 'HEAD_ETHNCY_CD',\n",
       "       'CHLDRN_MBR_INDR', 'CNTRL_CITY_CD', 'PVRTY_PRCNT', 'MNRTY_PRCNT',\n",
       "       'BLACK_PRCNT', 'HISPANIC_PRCNT', 'WHITE_PRCNT', 'pgm_type_edited'],\n",
       "      dtype='object')"
      ]
     },
     "execution_count": 9,
     "metadata": {},
     "output_type": "execute_result"
    }
   ],
   "source": [
    "df18.columns"
   ]
  },
  {
   "cell_type": "code",
   "execution_count": 10,
   "metadata": {},
   "outputs": [
    {
     "name": "stderr",
     "output_type": "stream",
     "text": [
      "/Users/emilygee/opt/anaconda3/lib/python3.7/site-packages/pandas/core/frame.py:4133: SettingWithCopyWarning: \n",
      "A value is trying to be set on a copy of a slice from a DataFrame\n",
      "\n",
      "See the caveats in the documentation: https://pandas.pydata.org/pandas-docs/stable/user_guide/indexing.html#returning-a-view-versus-a-copy\n",
      "  errors=errors,\n",
      "/Users/emilygee/opt/anaconda3/lib/python3.7/site-packages/pandas/core/frame.py:4172: SettingWithCopyWarning: \n",
      "A value is trying to be set on a copy of a slice from a DataFrame\n",
      "\n",
      "See the caveats in the documentation: https://pandas.pydata.org/pandas-docs/stable/user_guide/indexing.html#returning-a-view-versus-a-copy\n",
      "  method=method,\n",
      "/Users/emilygee/opt/anaconda3/lib/python3.7/site-packages/ipykernel_launcher.py:3: SettingWithCopyWarning: \n",
      "A value is trying to be set on a copy of a slice from a DataFrame\n",
      "\n",
      "See the caveats in the documentation: https://pandas.pydata.org/pandas-docs/stable/user_guide/indexing.html#returning-a-view-versus-a-copy\n",
      "  This is separate from the ipykernel package so we can avoid doing imports until\n",
      "/Users/emilygee/opt/anaconda3/lib/python3.7/site-packages/pandas/core/generic.py:8767: SettingWithCopyWarning: \n",
      "A value is trying to be set on a copy of a slice from a DataFrame\n",
      "\n",
      "See the caveats in the documentation: https://pandas.pydata.org/pandas-docs/stable/user_guide/indexing.html#returning-a-view-versus-a-copy\n",
      "  self._update_inplace(new_data)\n",
      "/Users/emilygee/opt/anaconda3/lib/python3.7/site-packages/ipykernel_launcher.py:4: SettingWithCopyWarning: \n",
      "A value is trying to be set on a copy of a slice from a DataFrame\n",
      "\n",
      "See the caveats in the documentation: https://pandas.pydata.org/pandas-docs/stable/user_guide/indexing.html#returning-a-view-versus-a-copy\n",
      "  after removing the cwd from sys.path.\n"
     ]
    }
   ],
   "source": [
    "df18.rename(columns = {'pgm_type_edited':'HousingType'}, inplace = True)\n",
    "df18.replace(to_replace='.', value=0, inplace=True)\n",
    "df18.HEAD_GNDR_CD[df.HEAD_GNDR_CD == 'M'] = 0 # 0 for male\n",
    "df18.HEAD_GNDR_CD[df.HEAD_GNDR_CD == 'F'] = 1 # 1 for female"
   ]
  },
  {
   "cell_type": "code",
   "execution_count": 11,
   "metadata": {},
   "outputs": [
    {
     "data": {
      "text/html": [
       "<div>\n",
       "<style scoped>\n",
       "    .dataframe tbody tr th:only-of-type {\n",
       "        vertical-align: middle;\n",
       "    }\n",
       "\n",
       "    .dataframe tbody tr th {\n",
       "        vertical-align: top;\n",
       "    }\n",
       "\n",
       "    .dataframe thead th {\n",
       "        text-align: right;\n",
       "    }\n",
       "</style>\n",
       "<table border=\"1\" class=\"dataframe\">\n",
       "  <thead>\n",
       "    <tr style=\"text-align: right;\">\n",
       "      <th></th>\n",
       "      <th>Year</th>\n",
       "      <th>HSHD_MBR_TOTAL_CNT</th>\n",
       "      <th>NUM_BEDRM_CNT</th>\n",
       "      <th>TOTAL_DPNDNT_CNT</th>\n",
       "      <th>DSBLD_CHLDRN_CNT</th>\n",
       "      <th>HEAD_AGE_YR_CNT</th>\n",
       "      <th>CHLDRN_MBR_CNT</th>\n",
       "      <th>HEAD_GNDR_CD</th>\n",
       "      <th>HEAD_ELDLY_INDR</th>\n",
       "      <th>HEAD_DSBLTY_INDR</th>\n",
       "      <th>HEAD_RACE_CD</th>\n",
       "      <th>HEAD_ETHNCY_CD</th>\n",
       "      <th>CHLDRN_MBR_INDR</th>\n",
       "      <th>CNTRL_CITY_CD</th>\n",
       "      <th>PVRTY_PRCNT</th>\n",
       "      <th>MNRTY_PRCNT</th>\n",
       "      <th>BLACK_PRCNT</th>\n",
       "      <th>HISPANIC_PRCNT</th>\n",
       "      <th>WHITE_PRCNT</th>\n",
       "      <th>HousingType</th>\n",
       "    </tr>\n",
       "  </thead>\n",
       "  <tbody>\n",
       "    <tr>\n",
       "      <th>20786</th>\n",
       "      <td>2018</td>\n",
       "      <td>1</td>\n",
       "      <td>1</td>\n",
       "      <td>0</td>\n",
       "      <td>0</td>\n",
       "      <td>59</td>\n",
       "      <td>0</td>\n",
       "      <td>1</td>\n",
       "      <td>0</td>\n",
       "      <td>1</td>\n",
       "      <td>1</td>\n",
       "      <td>2</td>\n",
       "      <td>0</td>\n",
       "      <td>1</td>\n",
       "      <td>36.296</td>\n",
       "      <td>34.914</td>\n",
       "      <td>6.203</td>\n",
       "      <td>21.4001</td>\n",
       "      <td>74.568</td>\n",
       "      <td>1</td>\n",
       "    </tr>\n",
       "    <tr>\n",
       "      <th>20787</th>\n",
       "      <td>2018</td>\n",
       "      <td>1</td>\n",
       "      <td>1</td>\n",
       "      <td>0</td>\n",
       "      <td>0</td>\n",
       "      <td>52</td>\n",
       "      <td>0</td>\n",
       "      <td>1</td>\n",
       "      <td>0</td>\n",
       "      <td>1</td>\n",
       "      <td>1</td>\n",
       "      <td>2</td>\n",
       "      <td>0</td>\n",
       "      <td>0</td>\n",
       "      <td>13.789</td>\n",
       "      <td>7.835</td>\n",
       "      <td>2.097</td>\n",
       "      <td>2.3836</td>\n",
       "      <td>93.578</td>\n",
       "      <td>1</td>\n",
       "    </tr>\n",
       "    <tr>\n",
       "      <th>20788</th>\n",
       "      <td>2018</td>\n",
       "      <td>1</td>\n",
       "      <td>1</td>\n",
       "      <td>0</td>\n",
       "      <td>0</td>\n",
       "      <td>92</td>\n",
       "      <td>0</td>\n",
       "      <td>1</td>\n",
       "      <td>1</td>\n",
       "      <td>0</td>\n",
       "      <td>1</td>\n",
       "      <td>2</td>\n",
       "      <td>0</td>\n",
       "      <td>0</td>\n",
       "      <td>9.035</td>\n",
       "      <td>14.039</td>\n",
       "      <td>2.003</td>\n",
       "      <td>6.1741</td>\n",
       "      <td>90.131</td>\n",
       "      <td>1</td>\n",
       "    </tr>\n",
       "    <tr>\n",
       "      <th>20789</th>\n",
       "      <td>2018</td>\n",
       "      <td>1</td>\n",
       "      <td>2</td>\n",
       "      <td>0</td>\n",
       "      <td>0</td>\n",
       "      <td>44</td>\n",
       "      <td>0</td>\n",
       "      <td>1</td>\n",
       "      <td>0</td>\n",
       "      <td>0</td>\n",
       "      <td>1</td>\n",
       "      <td>2</td>\n",
       "      <td>0</td>\n",
       "      <td>2</td>\n",
       "      <td>30.583</td>\n",
       "      <td>3.108</td>\n",
       "      <td>0.303</td>\n",
       "      <td>0.4928</td>\n",
       "      <td>97.157</td>\n",
       "      <td>1</td>\n",
       "    </tr>\n",
       "    <tr>\n",
       "      <th>20790</th>\n",
       "      <td>2018</td>\n",
       "      <td>2</td>\n",
       "      <td>2</td>\n",
       "      <td>1</td>\n",
       "      <td>0</td>\n",
       "      <td>27</td>\n",
       "      <td>1</td>\n",
       "      <td>1</td>\n",
       "      <td>0</td>\n",
       "      <td>0</td>\n",
       "      <td>1</td>\n",
       "      <td>2</td>\n",
       "      <td>1</td>\n",
       "      <td>1</td>\n",
       "      <td>13.797</td>\n",
       "      <td>8.839</td>\n",
       "      <td>1.558</td>\n",
       "      <td>1.8001</td>\n",
       "      <td>92.047</td>\n",
       "      <td>1</td>\n",
       "    </tr>\n",
       "  </tbody>\n",
       "</table>\n",
       "</div>"
      ],
      "text/plain": [
       "       Year  HSHD_MBR_TOTAL_CNT  NUM_BEDRM_CNT  TOTAL_DPNDNT_CNT  \\\n",
       "20786  2018                   1              1                 0   \n",
       "20787  2018                   1              1                 0   \n",
       "20788  2018                   1              1                 0   \n",
       "20789  2018                   1              2                 0   \n",
       "20790  2018                   2              2                 1   \n",
       "\n",
       "       DSBLD_CHLDRN_CNT  HEAD_AGE_YR_CNT  CHLDRN_MBR_CNT HEAD_GNDR_CD  \\\n",
       "20786                 0               59               0            1   \n",
       "20787                 0               52               0            1   \n",
       "20788                 0               92               0            1   \n",
       "20789                 0               44               0            1   \n",
       "20790                 0               27               1            1   \n",
       "\n",
       "       HEAD_ELDLY_INDR  HEAD_DSBLTY_INDR  HEAD_RACE_CD  HEAD_ETHNCY_CD  \\\n",
       "20786                0                 1             1               2   \n",
       "20787                0                 1             1               2   \n",
       "20788                1                 0             1               2   \n",
       "20789                0                 0             1               2   \n",
       "20790                0                 0             1               2   \n",
       "\n",
       "       CHLDRN_MBR_INDR  CNTRL_CITY_CD  PVRTY_PRCNT  MNRTY_PRCNT  BLACK_PRCNT  \\\n",
       "20786                0              1       36.296       34.914        6.203   \n",
       "20787                0              0       13.789        7.835        2.097   \n",
       "20788                0              0        9.035       14.039        2.003   \n",
       "20789                0              2       30.583        3.108        0.303   \n",
       "20790                1              1       13.797        8.839        1.558   \n",
       "\n",
       "       HISPANIC_PRCNT  WHITE_PRCNT  HousingType  \n",
       "20786         21.4001       74.568            1  \n",
       "20787          2.3836       93.578            1  \n",
       "20788          6.1741       90.131            1  \n",
       "20789          0.4928       97.157            1  \n",
       "20790          1.8001       92.047            1  "
      ]
     },
     "execution_count": 11,
     "metadata": {},
     "output_type": "execute_result"
    }
   ],
   "source": [
    "df18.head()"
   ]
  },
  {
   "cell_type": "markdown",
   "metadata": {},
   "source": [
    "Housing classes\n",
    "* 1 is public housing\n",
    "* 2 is housing voucher\n",
    "* 3 is multi-family housing"
   ]
  },
  {
   "cell_type": "code",
   "execution_count": 12,
   "metadata": {},
   "outputs": [
    {
     "data": {
      "text/plain": [
       "2    20242\n",
       "3    13626\n",
       "1     8547\n",
       "Name: HousingType, dtype: int64"
      ]
     },
     "execution_count": 12,
     "metadata": {},
     "output_type": "execute_result"
    }
   ],
   "source": [
    "df18.HousingType.value_counts()"
   ]
  },
  {
   "cell_type": "code",
   "execution_count": 13,
   "metadata": {},
   "outputs": [
    {
     "data": {
      "text/plain": [
       "3    8547\n",
       "2    8547\n",
       "1    8547\n",
       "Name: HousingType, dtype: int64"
      ]
     },
     "execution_count": 13,
     "metadata": {},
     "output_type": "execute_result"
    }
   ],
   "source": [
    "# Correct class imbalance\n",
    "from sklearn.utils import resample\n",
    "\n",
    "# Separate majority and minority classes\n",
    "df_type2 = df18[df18.HousingType==2]\n",
    "df_type3 = df18[df18.HousingType==3]\n",
    "df_minority = df18[df18.HousingType==1]\n",
    " \n",
    "# Downsample bigger classes\n",
    "df_type2_downsampled = resample(df_type2, replace=False, n_samples=len(df_minority), random_state=98)\n",
    "df_type3_downsampled = resample(df_type3, replace=False, n_samples=len(df_minority), random_state=98)\n",
    " \n",
    "# Combine minority class with downsampled majority classes\n",
    "df2 = pd.concat([df_minority, df_type2_downsampled, df_type3_downsampled])\n",
    " \n",
    "# Display new class counts\n",
    "df2.HousingType.value_counts()"
   ]
  },
  {
   "cell_type": "code",
   "execution_count": 14,
   "metadata": {},
   "outputs": [
    {
     "data": {
      "text/plain": [
       "(25641, 20)"
      ]
     },
     "execution_count": 14,
     "metadata": {},
     "output_type": "execute_result"
    }
   ],
   "source": [
    "df2.shape"
   ]
  },
  {
   "cell_type": "markdown",
   "metadata": {},
   "source": [
    "## Splitting the data"
   ]
  },
  {
   "cell_type": "code",
   "execution_count": 15,
   "metadata": {},
   "outputs": [],
   "source": [
    "features = [f for f in df2.columns if f != 'HousingType']"
   ]
  },
  {
   "cell_type": "code",
   "execution_count": 16,
   "metadata": {},
   "outputs": [],
   "source": [
    "X = df2[features]\n",
    "y = df2.HousingType"
   ]
  },
  {
   "cell_type": "code",
   "execution_count": 17,
   "metadata": {},
   "outputs": [],
   "source": [
    "X_train, X_test, y_train, y_test = train_test_split(X, y, test_size=.3, random_state=98)"
   ]
  },
  {
   "cell_type": "code",
   "execution_count": 18,
   "metadata": {},
   "outputs": [
    {
     "name": "stdout",
     "output_type": "stream",
     "text": [
      "Train: (17948, 19) Test: (7693, 19)\n"
     ]
    }
   ],
   "source": [
    "print('Train:', X_train.shape, 'Test:', X_test.shape)"
   ]
  },
  {
   "cell_type": "markdown",
   "metadata": {},
   "source": [
    "## Logistic regression"
   ]
  },
  {
   "cell_type": "code",
   "execution_count": 19,
   "metadata": {},
   "outputs": [],
   "source": [
    "logreg = LogisticRegression(random_state=98, multi_class='multinomial')"
   ]
  },
  {
   "cell_type": "code",
   "execution_count": 20,
   "metadata": {},
   "outputs": [
    {
     "name": "stderr",
     "output_type": "stream",
     "text": [
      "/Users/emilygee/opt/anaconda3/lib/python3.7/site-packages/sklearn/linear_model/_logistic.py:940: ConvergenceWarning: lbfgs failed to converge (status=1):\n",
      "STOP: TOTAL NO. of ITERATIONS REACHED LIMIT.\n",
      "\n",
      "Increase the number of iterations (max_iter) or scale the data as shown in:\n",
      "    https://scikit-learn.org/stable/modules/preprocessing.html\n",
      "Please also refer to the documentation for alternative solver options:\n",
      "    https://scikit-learn.org/stable/modules/linear_model.html#logistic-regression\n",
      "  extra_warning_msg=_LOGISTIC_SOLVER_CONVERGENCE_MSG)\n"
     ]
    },
    {
     "data": {
      "text/plain": [
       "LogisticRegression(C=1.0, class_weight=None, dual=False, fit_intercept=True,\n",
       "                   intercept_scaling=1, l1_ratio=None, max_iter=100,\n",
       "                   multi_class='multinomial', n_jobs=None, penalty='l2',\n",
       "                   random_state=98, solver='lbfgs', tol=0.0001, verbose=0,\n",
       "                   warm_start=False)"
      ]
     },
     "execution_count": 20,
     "metadata": {},
     "output_type": "execute_result"
    }
   ],
   "source": [
    "logreg.fit(X_train, y_train)"
   ]
  },
  {
   "cell_type": "code",
   "execution_count": 21,
   "metadata": {},
   "outputs": [],
   "source": [
    "y_pred = logreg.predict(X_test)"
   ]
  },
  {
   "cell_type": "code",
   "execution_count": 22,
   "metadata": {},
   "outputs": [
    {
     "name": "stdout",
     "output_type": "stream",
     "text": [
      "Prediction accuracy: 46.72%\n"
     ]
    }
   ],
   "source": [
    "print(f'Prediction accuracy: {logreg.score(X_test, y_test):.2%}')"
   ]
  },
  {
   "cell_type": "code",
   "execution_count": 23,
   "metadata": {},
   "outputs": [
    {
     "data": {
      "text/html": [
       "<div>\n",
       "<style scoped>\n",
       "    .dataframe tbody tr th:only-of-type {\n",
       "        vertical-align: middle;\n",
       "    }\n",
       "\n",
       "    .dataframe tbody tr th {\n",
       "        vertical-align: top;\n",
       "    }\n",
       "\n",
       "    .dataframe thead th {\n",
       "        text-align: right;\n",
       "    }\n",
       "</style>\n",
       "<table border=\"1\" class=\"dataframe\">\n",
       "  <thead>\n",
       "    <tr style=\"text-align: right;\">\n",
       "      <th></th>\n",
       "      <th>1</th>\n",
       "      <th>2</th>\n",
       "      <th>3</th>\n",
       "    </tr>\n",
       "  </thead>\n",
       "  <tbody>\n",
       "    <tr>\n",
       "      <th>1</th>\n",
       "      <td>1167</td>\n",
       "      <td>682</td>\n",
       "      <td>713</td>\n",
       "    </tr>\n",
       "    <tr>\n",
       "      <th>2</th>\n",
       "      <td>631</td>\n",
       "      <td>1308</td>\n",
       "      <td>618</td>\n",
       "    </tr>\n",
       "    <tr>\n",
       "      <th>3</th>\n",
       "      <td>702</td>\n",
       "      <td>753</td>\n",
       "      <td>1119</td>\n",
       "    </tr>\n",
       "  </tbody>\n",
       "</table>\n",
       "</div>"
      ],
      "text/plain": [
       "      1     2     3\n",
       "1  1167   682   713\n",
       "2   631  1308   618\n",
       "3   702   753  1119"
      ]
     },
     "execution_count": 23,
     "metadata": {},
     "output_type": "execute_result"
    }
   ],
   "source": [
    "cm = confusion_matrix(y_test, y_pred)\n",
    "cm_df = pd.DataFrame(cm, index = [1,2,3], columns = [1,2,3])\n",
    "cm_df"
   ]
  },
  {
   "cell_type": "code",
   "execution_count": 24,
   "metadata": {},
   "outputs": [
    {
     "data": {
      "image/png": "[encoded data removed]",
      "text/plain": [
       "<Figure size 432x288 with 2 Axes>"
      ]
     },
     "metadata": {
      "needs_background": "light"
     },
     "output_type": "display_data"
    }
   ],
   "source": [
    "axes = sns.heatmap(cm_df, annot = True, cmap = 'nipy_spectral_r')"
   ]
  },
  {
   "cell_type": "code",
   "execution_count": 25,
   "metadata": {},
   "outputs": [
    {
     "name": "stdout",
     "output_type": "stream",
     "text": [
      "              precision    recall  f1-score   support\n",
      "\n",
      "           1       0.47      0.46      0.46      2562\n",
      "           2       0.48      0.51      0.49      2557\n",
      "           3       0.46      0.43      0.45      2574\n",
      "\n",
      "    accuracy                           0.47      7693\n",
      "   macro avg       0.47      0.47      0.47      7693\n",
      "weighted avg       0.47      0.47      0.47      7693\n",
      "\n"
     ]
    }
   ],
   "source": [
    "print(classification_report(y_test, y_pred))"
   ]
  },
  {
   "cell_type": "markdown",
   "metadata": {},
   "source": [
    "## Decision tree"
   ]
  },
  {
   "cell_type": "code",
   "execution_count": 26,
   "metadata": {},
   "outputs": [],
   "source": [
    "tree = DecisionTreeClassifier(random_state=98)"
   ]
  },
  {
   "cell_type": "code",
   "execution_count": 27,
   "metadata": {},
   "outputs": [],
   "source": [
    "tree = tree.fit(X_train, y_train)"
   ]
  },
  {
   "cell_type": "code",
   "execution_count": 28,
   "metadata": {},
   "outputs": [],
   "source": [
    "y_pred2 = tree.predict(X_test)"
   ]
  },
  {
   "cell_type": "code",
   "execution_count": 29,
   "metadata": {},
   "outputs": [
    {
     "name": "stdout",
     "output_type": "stream",
     "text": [
      "Prediction accuracy: 48.25%\n"
     ]
    }
   ],
   "source": [
    "print(f'Prediction accuracy: {tree.score(X_test, y_test):.2%}')"
   ]
  },
  {
   "cell_type": "code",
   "execution_count": 30,
   "metadata": {},
   "outputs": [
    {
     "data": {
      "text/html": [
       "<div>\n",
       "<style scoped>\n",
       "    .dataframe tbody tr th:only-of-type {\n",
       "        vertical-align: middle;\n",
       "    }\n",
       "\n",
       "    .dataframe tbody tr th {\n",
       "        vertical-align: top;\n",
       "    }\n",
       "\n",
       "    .dataframe thead th {\n",
       "        text-align: right;\n",
       "    }\n",
       "</style>\n",
       "<table border=\"1\" class=\"dataframe\">\n",
       "  <thead>\n",
       "    <tr style=\"text-align: right;\">\n",
       "      <th></th>\n",
       "      <th>1</th>\n",
       "      <th>2</th>\n",
       "      <th>3</th>\n",
       "    </tr>\n",
       "  </thead>\n",
       "  <tbody>\n",
       "    <tr>\n",
       "      <th>1</th>\n",
       "      <td>1225</td>\n",
       "      <td>685</td>\n",
       "      <td>652</td>\n",
       "    </tr>\n",
       "    <tr>\n",
       "      <th>2</th>\n",
       "      <td>625</td>\n",
       "      <td>1256</td>\n",
       "      <td>676</td>\n",
       "    </tr>\n",
       "    <tr>\n",
       "      <th>3</th>\n",
       "      <td>673</td>\n",
       "      <td>670</td>\n",
       "      <td>1231</td>\n",
       "    </tr>\n",
       "  </tbody>\n",
       "</table>\n",
       "</div>"
      ],
      "text/plain": [
       "      1     2     3\n",
       "1  1225   685   652\n",
       "2   625  1256   676\n",
       "3   673   670  1231"
      ]
     },
     "execution_count": 30,
     "metadata": {},
     "output_type": "execute_result"
    }
   ],
   "source": [
    "cm2 = confusion_matrix(y_test, y_pred2)\n",
    "cm_df2 = pd.DataFrame(cm2, index = [1,2,3], columns = [1,2,3])\n",
    "cm_df2"
   ]
  },
  {
   "cell_type": "code",
   "execution_count": 31,
   "metadata": {},
   "outputs": [
    {
     "data": {
      "image/png": "[encoded data removed]",
      "text/plain": [
       "<Figure size 432x288 with 2 Axes>"
      ]
     },
     "metadata": {
      "needs_background": "light"
     },
     "output_type": "display_data"
    }
   ],
   "source": [
    "axes2 = sns.heatmap(cm_df2, annot = True, cmap = 'nipy_spectral_r')"
   ]
  },
  {
   "cell_type": "code",
   "execution_count": 32,
   "metadata": {},
   "outputs": [
    {
     "name": "stdout",
     "output_type": "stream",
     "text": [
      "              precision    recall  f1-score   support\n",
      "\n",
      "           1       0.49      0.48      0.48      2562\n",
      "           2       0.48      0.49      0.49      2557\n",
      "           3       0.48      0.48      0.48      2574\n",
      "\n",
      "    accuracy                           0.48      7693\n",
      "   macro avg       0.48      0.48      0.48      7693\n",
      "weighted avg       0.48      0.48      0.48      7693\n",
      "\n"
     ]
    }
   ],
   "source": [
    "print(classification_report(y_test, y_pred2))"
   ]
  },
  {
   "cell_type": "markdown",
   "metadata": {},
   "source": [
    "## Conclusion\n",
    "Based on demographic information alone, it is difficult to accurately predict which type of housing a family belongs to. There may be no relation, or more qualitative research is needed to identify any preferences/trends among groups."
   ]
  }
 ],
 "metadata": {
  "kernelspec": {
   "display_name": "Python 3",
   "language": "python",
   "name": "python3"
  },
  "language_info": {
   "codemirror_mode": {
    "name": "ipython",
    "version": 3
   },
   "file_extension": ".py",
   "mimetype": "text/x-python",
   "name": "python",
   "nbconvert_exporter": "python",
   "pygments_lexer": "ipython3",
   "version": "3.7.6"
  }
 },
 "nbformat": 4,
 "nbformat_minor": 4
}
